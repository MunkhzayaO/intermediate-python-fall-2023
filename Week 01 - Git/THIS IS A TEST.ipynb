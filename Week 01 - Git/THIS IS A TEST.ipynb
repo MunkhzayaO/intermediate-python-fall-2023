{
 "cells": [
  {
   "cell_type": "code",
   "execution_count": 1,
   "id": "d7c0438a-ff09-43b0-aea5-a2f3c17a9db5",
   "metadata": {},
   "outputs": [
    {
     "name": "stdout",
     "output_type": "stream",
     "text": [
      "HEY GUYS\n"
     ]
    }
   ],
   "source": [
    "print(\"HEY GUYS\")"
   ]
  },
  {
   "cell_type": "code",
   "execution_count": null,
   "id": "fbd2a503-0c1f-4f56-8ee9-43ef34f6dd7c",
   "metadata": {},
   "outputs": [],
   "source": []
  }
 ],
 "metadata": {
  "kernelspec": {
   "display_name": "Python 3 (ipykernel)",
   "language": "python",
   "name": "python3"
  },
  "language_info": {
   "codemirror_mode": {
    "name": "ipython",
    "version": 3
   },
   "file_extension": ".py",
   "mimetype": "text/x-python",
   "name": "python",
   "nbconvert_exporter": "python",
   "pygments_lexer": "ipython3",
   "version": "3.8.13"
  }
 },
 "nbformat": 4,
 "nbformat_minor": 5
}
