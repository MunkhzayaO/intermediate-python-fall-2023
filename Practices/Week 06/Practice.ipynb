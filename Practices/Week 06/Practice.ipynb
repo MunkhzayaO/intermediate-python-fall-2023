{
 "cells": [
  {
   "cell_type": "markdown",
   "id": "3d7a1c77-0fec-400f-9507-e2f10d08abc5",
   "metadata": {
    "tags": []
   },
   "source": [
    "# Scraping `zangia.mn`\n",
    "* You need to import `pandas`, `requests` and `BeautifulSoup`"
   ]
  },
  {
   "cell_type": "code",
   "execution_count": 2,
   "id": "a2882d7b-3416-474c-a99d-0d445c1c58f8",
   "metadata": {},
   "outputs": [],
   "source": [
    "import pandas as pd\n",
    "import requests\n",
    "from bs4 import BeautifulSoup"
   ]
  },
  {
   "cell_type": "markdown",
   "id": "0fca01f5-7995-46b3-8849-953231d6dec1",
   "metadata": {
    "tags": []
   },
   "source": [
    "### Exercise 1: Scrape `zangia.mn` page#1\n",
    "* Make a dataframe using `Мэдээлэл технологи, Харилцаа холбоо` category `https://www.zangia.mn/job/list/pg.1/b.4`.\n",
    "* Get job listings from page 1.\n",
    "  * DataFrame should include columns: `job_title`, `salary`. \n",
    "  * Remove the row if `salary` text contains `Тохиролцоно`. \n",
    "    * *Hint*: Loop over the df and use `in` and `drop` methods.\n",
    "  * Take salary as 5000000 if `salary` text contains `5,000,000 -ааc дээш`\n",
    "  * Import statistics library\n",
    "  * Get the median salary using statistics library if there is a salary range. Example: 2,500,000-3,500,000 should be 3000000. \n",
    "    * Use string replace method to remove comma from numbers.\n",
    "    * *Hint*: Use string split method to get the numbers. \n",
    "  * Make a histogram plot using the `salary`.  \n"
   ]
  },
  {
   "cell_type": "code",
   "execution_count": 3,
   "id": "aa899bcc-d456-44af-b385-96aa18fbcaaa",
   "metadata": {},
   "outputs": [],
   "source": [
    "# Your code\n",
    "response = requests.get(\"https://www.zangia.mn/job/list/pg.1/b.4\")"
   ]
  },
  {
   "cell_type": "code",
   "execution_count": 4,
   "id": "04b15589-0ca6-4b9e-9c65-627c64c410e7",
   "metadata": {},
   "outputs": [],
   "source": [
    "soup = BeautifulSoup(response.content)"
   ]
  },
  {
   "cell_type": "code",
   "execution_count": 5,
   "id": "615072bf-76a9-4a54-949d-5f02bc19c869",
   "metadata": {},
   "outputs": [],
   "source": [
    "ads = soup.find_all(\"div\", {\"class\":\"ad\"})"
   ]
  },
  {
   "cell_type": "code",
   "execution_count": 6,
   "id": "642407fc-8ff5-4b5a-836a-4af5aa2b70b9",
   "metadata": {},
   "outputs": [
    {
     "data": {
      "text/plain": [
       "'Хөгжүүлэгч'"
      ]
     },
     "execution_count": 6,
     "metadata": {},
     "output_type": "execute_result"
    }
   ],
   "source": [
    "ads[0].find('b').get_text()"
   ]
  },
  {
   "cell_type": "code",
   "execution_count": 7,
   "id": "be354f8e-c2d2-41a4-9cfd-579c32d85165",
   "metadata": {},
   "outputs": [],
   "source": [
    "job_titles = []\n",
    "for ad in ads:\n",
    "    job_title = ad.find('b').get_text()\n",
    "    job_titles.append(job_title)"
   ]
  },
  {
   "cell_type": "code",
   "execution_count": 8,
   "id": "a324ba35-bd4d-4729-8576-e39c03f29e23",
   "metadata": {},
   "outputs": [
    {
     "data": {
      "text/plain": [
       "['Хөгжүүлэгч',\n",
       " 'САНХҮҮГИЙН БАЙЦААГЧ',\n",
       " 'Скрам мастер /Төслийн менежер/',\n",
       " 'Өгөгдлийн сангийн хөгжүүлэгч',\n",
       " 'IT ИНЖЕНЕР/УУРХАЙД/',\n",
       " 'Чанарын баталгаажуулалтын мененежер',\n",
       " 'Захиалгын утасны оператор ажилд авна.',\n",
       " 'Ахлах мэргэжилтэн  /Мэдээллийн аюулгүй байдал/',\n",
       " 'Мэдээллийн аюулгүй байдал хариуцсан менежер',\n",
       " 'IT ТӨСӨЛ ХАРИУЦСАН АХЛАХ МЕНЕЖЕР',\n",
       " 'ОНЛАЙН БОРЛУУЛАЛТЫН МЕНЕЖЕР',\n",
       " 'Сүлжээний инженер',\n",
       " 'Банк бусын оператор',\n",
       " 'Call center operator',\n",
       " 'Оператор (эмэгтэй)',\n",
       " 'Аюулгүй байдлын инженер',\n",
       " 'Хөгжүүлэгч / FrontEnd/',\n",
       " 'Хэрэглэгчийн зөвлөх (Хэнтий аймагт)',\n",
       " 'AI хиймэл оюун ухаан судлаач',\n",
       " 'Ээлжийн инженер',\n",
       " 'СИСТЕМИЙН МЭРГЭЖИЛТЭН',\n",
       " 'Лавлах утасны оператор /Ээлжийн/',\n",
       " 'Програм хангамж хөгжүүлэгч /Дунд түвшин/',\n",
       " 'Техникч /хотод ажиллах/',\n",
       " 'ХОЛБОО ДОХИОЛЛЫН ИНЖЕНЕР',\n",
       " 'Сүлжээний инженер',\n",
       " 'Сүлжээний инженер',\n",
       " 'Програмист',\n",
       " 'Мэдээлэл технологийн инженер',\n",
       " 'Програм хангамж хөгжүүлэгч /Ахисан түвшин/',\n",
       " 'Back-end developer',\n",
       " 'Харилцагчийн үйлчилгээний ажилтан',\n",
       " 'Ахлах Back-End хөгжүүлэгч',\n",
       " 'IT инженер',\n",
       " 'Эрсдэл хариуцсан дэд захиралт Төслийн мэргэжилтэн',\n",
       " 'ДУУДЛАГЫН ТӨВИЙН МЕНЕЖЕР',\n",
       " 'Мэдээлэл технологийн мэргэжилтэн',\n",
       " 'Оператор',\n",
       " 'Систем админ',\n",
       " 'Хөгжүүлэгч (FE)',\n",
       " 'Мобайл хөгжүүлэгч',\n",
       " 'Програм хөгжүүлэгч',\n",
       " 'Програмын Ахлах хөгжүүлэгч',\n",
       " 'Системийн админ',\n",
       " 'Санхүүгийн Ахлах мэргэжилтэн',\n",
       " 'Ахлах программ хөгжүүлэгч',\n",
       " 'Дуудлагын оператор',\n",
       " 'КАМЕР ХЯНАЛТЫН АЖИЛТАН /Ашиглалт, үйлчилгээ /',\n",
       " 'IT Support Engineer',\n",
       " 'Борлуулалтын менежер']"
      ]
     },
     "execution_count": 8,
     "metadata": {},
     "output_type": "execute_result"
    }
   ],
   "source": [
    "job_titles"
   ]
  },
  {
   "cell_type": "code",
   "execution_count": 9,
   "id": "c899fbdf-30c4-4f64-a0c5-554f95581700",
   "metadata": {},
   "outputs": [
    {
     "data": {
      "text/plain": [
       "'3,000,000 - 4,000,000'"
      ]
     },
     "execution_count": 9,
     "metadata": {},
     "output_type": "execute_result"
    }
   ],
   "source": [
    "ads[0].find('span', {\"class\":\"fsal\"}).get_text()"
   ]
  },
  {
   "cell_type": "code",
   "execution_count": 10,
   "id": "70b356dc-aa04-4089-ab7c-a50458aa5c61",
   "metadata": {},
   "outputs": [],
   "source": [
    "job_salaries = []\n",
    "for ad in ads:\n",
    "    job_salary = ad.find('span', {\"class\": \"fsal\"}).get_text()\n",
    "    job_salaries.append(job_salary)"
   ]
  },
  {
   "cell_type": "code",
   "execution_count": 15,
   "id": "3430f0e9-b693-4538-9e7a-b9f449d0bb46",
   "metadata": {},
   "outputs": [],
   "source": [
    "df = pd.DataFrame({\"job_titles\": job_titles, \"job_salary\": job_salaries})"
   ]
  },
  {
   "cell_type": "code",
   "execution_count": 16,
   "id": "dc4a8706-0885-47c1-aec5-9966a20ac380",
   "metadata": {},
   "outputs": [
    {
     "data": {
      "text/html": [
       "<div>\n",
       "<style scoped>\n",
       "    .dataframe tbody tr th:only-of-type {\n",
       "        vertical-align: middle;\n",
       "    }\n",
       "\n",
       "    .dataframe tbody tr th {\n",
       "        vertical-align: top;\n",
       "    }\n",
       "\n",
       "    .dataframe thead th {\n",
       "        text-align: right;\n",
       "    }\n",
       "</style>\n",
       "<table border=\"1\" class=\"dataframe\">\n",
       "  <thead>\n",
       "    <tr style=\"text-align: right;\">\n",
       "      <th></th>\n",
       "      <th>job_titles</th>\n",
       "      <th>job_salary</th>\n",
       "    </tr>\n",
       "  </thead>\n",
       "  <tbody>\n",
       "    <tr>\n",
       "      <th>0</th>\n",
       "      <td>Хөгжүүлэгч</td>\n",
       "      <td>3,000,000 - 4,000,000</td>\n",
       "    </tr>\n",
       "    <tr>\n",
       "      <th>1</th>\n",
       "      <td>САНХҮҮГИЙН БАЙЦААГЧ</td>\n",
       "      <td>1,200,000 - 1,500,000 Тохиролцоно</td>\n",
       "    </tr>\n",
       "    <tr>\n",
       "      <th>2</th>\n",
       "      <td>Скрам мастер /Төслийн менежер/</td>\n",
       "      <td>2,100,000 - 2,500,000</td>\n",
       "    </tr>\n",
       "    <tr>\n",
       "      <th>3</th>\n",
       "      <td>Өгөгдлийн сангийн хөгжүүлэгч</td>\n",
       "      <td>3,000,000 - 4,000,000</td>\n",
       "    </tr>\n",
       "    <tr>\n",
       "      <th>4</th>\n",
       "      <td>IT ИНЖЕНЕР/УУРХАЙД/</td>\n",
       "      <td>2,100,000 - 2,500,000</td>\n",
       "    </tr>\n",
       "  </tbody>\n",
       "</table>\n",
       "</div>"
      ],
      "text/plain": [
       "                       job_titles                         job_salary\n",
       "0                      Хөгжүүлэгч              3,000,000 - 4,000,000\n",
       "1             САНХҮҮГИЙН БАЙЦААГЧ  1,200,000 - 1,500,000 Тохиролцоно\n",
       "2  Скрам мастер /Төслийн менежер/              2,100,000 - 2,500,000\n",
       "3    Өгөгдлийн сангийн хөгжүүлэгч              3,000,000 - 4,000,000\n",
       "4             IT ИНЖЕНЕР/УУРХАЙД/              2,100,000 - 2,500,000"
      ]
     },
     "execution_count": 16,
     "metadata": {},
     "output_type": "execute_result"
    }
   ],
   "source": [
    "df.head()"
   ]
  },
  {
   "cell_type": "code",
   "execution_count": 17,
   "id": "3c1edc90-204f-4772-82ec-959e0c1194b3",
   "metadata": {},
   "outputs": [],
   "source": [
    "import statistics"
   ]
  },
  {
   "cell_type": "code",
   "execution_count": 19,
   "id": "22d2dc7e-9978-468e-887c-5c266aed889c",
   "metadata": {},
   "outputs": [
    {
     "ename": "KeyError",
     "evalue": "1",
     "output_type": "error",
     "traceback": [
      "\u001b[1;31m---------------------------------------------------------------------------\u001b[0m",
      "\u001b[1;31mKeyError\u001b[0m                                  Traceback (most recent call last)",
      "File \u001b[1;32m~\\AppData\\Roaming\\jupyterlab-desktop\\jlab_server\\lib\\site-packages\\pandas\\core\\indexes\\base.py:3629\u001b[0m, in \u001b[0;36mIndex.get_loc\u001b[1;34m(self, key, method, tolerance)\u001b[0m\n\u001b[0;32m   3628\u001b[0m \u001b[38;5;28;01mtry\u001b[39;00m:\n\u001b[1;32m-> 3629\u001b[0m     \u001b[38;5;28;01mreturn\u001b[39;00m \u001b[38;5;28;43mself\u001b[39;49m\u001b[38;5;241;43m.\u001b[39;49m\u001b[43m_engine\u001b[49m\u001b[38;5;241;43m.\u001b[39;49m\u001b[43mget_loc\u001b[49m\u001b[43m(\u001b[49m\u001b[43mcasted_key\u001b[49m\u001b[43m)\u001b[49m\n\u001b[0;32m   3630\u001b[0m \u001b[38;5;28;01mexcept\u001b[39;00m \u001b[38;5;167;01mKeyError\u001b[39;00m \u001b[38;5;28;01mas\u001b[39;00m err:\n",
      "File \u001b[1;32m~\\AppData\\Roaming\\jupyterlab-desktop\\jlab_server\\lib\\site-packages\\pandas\\_libs\\index.pyx:136\u001b[0m, in \u001b[0;36mpandas._libs.index.IndexEngine.get_loc\u001b[1;34m()\u001b[0m\n",
      "File \u001b[1;32m~\\AppData\\Roaming\\jupyterlab-desktop\\jlab_server\\lib\\site-packages\\pandas\\_libs\\index.pyx:163\u001b[0m, in \u001b[0;36mpandas._libs.index.IndexEngine.get_loc\u001b[1;34m()\u001b[0m\n",
      "File \u001b[1;32mpandas\\_libs\\hashtable_class_helper.pxi:2131\u001b[0m, in \u001b[0;36mpandas._libs.hashtable.Int64HashTable.get_item\u001b[1;34m()\u001b[0m\n",
      "File \u001b[1;32mpandas\\_libs\\hashtable_class_helper.pxi:2140\u001b[0m, in \u001b[0;36mpandas._libs.hashtable.Int64HashTable.get_item\u001b[1;34m()\u001b[0m\n",
      "\u001b[1;31mKeyError\u001b[0m: 1",
      "\nThe above exception was the direct cause of the following exception:\n",
      "\u001b[1;31mKeyError\u001b[0m                                  Traceback (most recent call last)",
      "Cell \u001b[1;32mIn [19], line 2\u001b[0m\n\u001b[0;32m      1\u001b[0m \u001b[38;5;28;01mfor\u001b[39;00m i \u001b[38;5;129;01min\u001b[39;00m \u001b[38;5;28mrange\u001b[39m(\u001b[38;5;28mlen\u001b[39m(df)):\n\u001b[1;32m----> 2\u001b[0m     \u001b[38;5;28;01mif\u001b[39;00m \u001b[38;5;124m\"\u001b[39m\u001b[38;5;124mТохиролцоно\u001b[39m\u001b[38;5;124m\"\u001b[39m \u001b[38;5;129;01min\u001b[39;00m \u001b[43mdf\u001b[49m\u001b[43m[\u001b[49m\u001b[38;5;124;43m'\u001b[39;49m\u001b[38;5;124;43mjob_salary\u001b[39;49m\u001b[38;5;124;43m'\u001b[39;49m\u001b[43m]\u001b[49m\u001b[43m[\u001b[49m\u001b[43mi\u001b[49m\u001b[43m]\u001b[49m:\n\u001b[0;32m      3\u001b[0m         df\u001b[38;5;241m.\u001b[39mdrop(i, inplace\u001b[38;5;241m=\u001b[39m\u001b[38;5;28;01mTrue\u001b[39;00m)\n\u001b[0;32m      5\u001b[0m     \u001b[38;5;28;01mif\u001b[39;00m \u001b[38;5;124m\"\u001b[39m\u001b[38;5;124m5,000,000 -ааc дээш\u001b[39m\u001b[38;5;124m\"\u001b[39m \u001b[38;5;129;01min\u001b[39;00m df[\u001b[38;5;124m'\u001b[39m\u001b[38;5;124mjob_salary\u001b[39m\u001b[38;5;124m'\u001b[39m][i]:\n",
      "File \u001b[1;32m~\\AppData\\Roaming\\jupyterlab-desktop\\jlab_server\\lib\\site-packages\\pandas\\core\\series.py:958\u001b[0m, in \u001b[0;36mSeries.__getitem__\u001b[1;34m(self, key)\u001b[0m\n\u001b[0;32m    955\u001b[0m     \u001b[38;5;28;01mreturn\u001b[39;00m \u001b[38;5;28mself\u001b[39m\u001b[38;5;241m.\u001b[39m_values[key]\n\u001b[0;32m    957\u001b[0m \u001b[38;5;28;01melif\u001b[39;00m key_is_scalar:\n\u001b[1;32m--> 958\u001b[0m     \u001b[38;5;28;01mreturn\u001b[39;00m \u001b[38;5;28;43mself\u001b[39;49m\u001b[38;5;241;43m.\u001b[39;49m\u001b[43m_get_value\u001b[49m\u001b[43m(\u001b[49m\u001b[43mkey\u001b[49m\u001b[43m)\u001b[49m\n\u001b[0;32m    960\u001b[0m \u001b[38;5;28;01mif\u001b[39;00m is_hashable(key):\n\u001b[0;32m    961\u001b[0m     \u001b[38;5;66;03m# Otherwise index.get_value will raise InvalidIndexError\u001b[39;00m\n\u001b[0;32m    962\u001b[0m     \u001b[38;5;28;01mtry\u001b[39;00m:\n\u001b[0;32m    963\u001b[0m         \u001b[38;5;66;03m# For labels that don't resolve as scalars like tuples and frozensets\u001b[39;00m\n",
      "File \u001b[1;32m~\\AppData\\Roaming\\jupyterlab-desktop\\jlab_server\\lib\\site-packages\\pandas\\core\\series.py:1069\u001b[0m, in \u001b[0;36mSeries._get_value\u001b[1;34m(self, label, takeable)\u001b[0m\n\u001b[0;32m   1066\u001b[0m     \u001b[38;5;28;01mreturn\u001b[39;00m \u001b[38;5;28mself\u001b[39m\u001b[38;5;241m.\u001b[39m_values[label]\n\u001b[0;32m   1068\u001b[0m \u001b[38;5;66;03m# Similar to Index.get_value, but we do not fall back to positional\u001b[39;00m\n\u001b[1;32m-> 1069\u001b[0m loc \u001b[38;5;241m=\u001b[39m \u001b[38;5;28;43mself\u001b[39;49m\u001b[38;5;241;43m.\u001b[39;49m\u001b[43mindex\u001b[49m\u001b[38;5;241;43m.\u001b[39;49m\u001b[43mget_loc\u001b[49m\u001b[43m(\u001b[49m\u001b[43mlabel\u001b[49m\u001b[43m)\u001b[49m\n\u001b[0;32m   1070\u001b[0m \u001b[38;5;28;01mreturn\u001b[39;00m \u001b[38;5;28mself\u001b[39m\u001b[38;5;241m.\u001b[39mindex\u001b[38;5;241m.\u001b[39m_get_values_for_loc(\u001b[38;5;28mself\u001b[39m, loc, label)\n",
      "File \u001b[1;32m~\\AppData\\Roaming\\jupyterlab-desktop\\jlab_server\\lib\\site-packages\\pandas\\core\\indexes\\base.py:3631\u001b[0m, in \u001b[0;36mIndex.get_loc\u001b[1;34m(self, key, method, tolerance)\u001b[0m\n\u001b[0;32m   3629\u001b[0m     \u001b[38;5;28;01mreturn\u001b[39;00m \u001b[38;5;28mself\u001b[39m\u001b[38;5;241m.\u001b[39m_engine\u001b[38;5;241m.\u001b[39mget_loc(casted_key)\n\u001b[0;32m   3630\u001b[0m \u001b[38;5;28;01mexcept\u001b[39;00m \u001b[38;5;167;01mKeyError\u001b[39;00m \u001b[38;5;28;01mas\u001b[39;00m err:\n\u001b[1;32m-> 3631\u001b[0m     \u001b[38;5;28;01mraise\u001b[39;00m \u001b[38;5;167;01mKeyError\u001b[39;00m(key) \u001b[38;5;28;01mfrom\u001b[39;00m \u001b[38;5;21;01merr\u001b[39;00m\n\u001b[0;32m   3632\u001b[0m \u001b[38;5;28;01mexcept\u001b[39;00m \u001b[38;5;167;01mTypeError\u001b[39;00m:\n\u001b[0;32m   3633\u001b[0m     \u001b[38;5;66;03m# If we have a listlike key, _check_indexing_error will raise\u001b[39;00m\n\u001b[0;32m   3634\u001b[0m     \u001b[38;5;66;03m#  InvalidIndexError. Otherwise we fall through and re-raise\u001b[39;00m\n\u001b[0;32m   3635\u001b[0m     \u001b[38;5;66;03m#  the TypeError.\u001b[39;00m\n\u001b[0;32m   3636\u001b[0m     \u001b[38;5;28mself\u001b[39m\u001b[38;5;241m.\u001b[39m_check_indexing_error(key)\n",
      "\u001b[1;31mKeyError\u001b[0m: 1"
     ]
    }
   ],
   "source": [
    "for i in range(len(df)):\n",
    "    if \"Тохиролцоно\" in df['job_salary'][i]:\n",
    "        df.drop(i, inplace=True)\n",
    "        \n",
    "    if \"5,000,000 -ааc дээш\" in df['job_salary'][i]:\n",
    "        df['job_salary'] = 5_000_000\n",
    "        "
   ]
  },
  {
   "cell_type": "code",
   "execution_count": 20,
   "id": "7c0f8f4d-faf6-48bb-ac21-24766007ab5c",
   "metadata": {},
   "outputs": [],
   "source": [
    "df = df.reset_index(drop=True)"
   ]
  },
  {
   "cell_type": "code",
   "execution_count": 21,
   "id": "d5834294-7e0f-4a38-80ae-8d0aee22b8f5",
   "metadata": {},
   "outputs": [
    {
     "data": {
      "text/plain": [
       "3000000"
      ]
     },
     "execution_count": 21,
     "metadata": {},
     "output_type": "execute_result"
    }
   ],
   "source": [
    "int(df['job_salary'][0].split('-')[0].replace(',',''))"
   ]
  },
  {
   "cell_type": "code",
   "execution_count": 116,
   "id": "62e0d573-7199-475c-be7d-8c2da02df4b5",
   "metadata": {},
   "outputs": [],
   "source": [
    "for i in range(len(df)):\n",
    "    lower_sal = int(df['job_salary'][i].split('-')[0].replace(',',''))\n",
    "    upper_sal = int(df['job_salary'][i].split('-')[1].replace(',',''))\n",
    "    \n",
    "    median_sal = statistics.median((lower_sal, upper_sal))\n",
    "    \n",
    "    df['job_salary'][i] = median_sal\n",
    "    "
   ]
  },
  {
   "cell_type": "code",
   "execution_count": 117,
   "id": "2593e9a4-e122-4a79-9f1a-52a44b3378a3",
   "metadata": {},
   "outputs": [
    {
     "data": {
      "text/html": [
       "<div>\n",
       "<style scoped>\n",
       "    .dataframe tbody tr th:only-of-type {\n",
       "        vertical-align: middle;\n",
       "    }\n",
       "\n",
       "    .dataframe tbody tr th {\n",
       "        vertical-align: top;\n",
       "    }\n",
       "\n",
       "    .dataframe thead th {\n",
       "        text-align: right;\n",
       "    }\n",
       "</style>\n",
       "<table border=\"1\" class=\"dataframe\">\n",
       "  <thead>\n",
       "    <tr style=\"text-align: right;\">\n",
       "      <th></th>\n",
       "      <th>job_titles</th>\n",
       "      <th>job_salary</th>\n",
       "    </tr>\n",
       "  </thead>\n",
       "  <tbody>\n",
       "    <tr>\n",
       "      <th>0</th>\n",
       "      <td>ТӨЛӨВЛӨЛТИЙН ИНЖЕНЕР</td>\n",
       "      <td>2750000.0</td>\n",
       "    </tr>\n",
       "    <tr>\n",
       "      <th>1</th>\n",
       "      <td>Худалдааны зөвлөх</td>\n",
       "      <td>1650000.0</td>\n",
       "    </tr>\n",
       "    <tr>\n",
       "      <th>2</th>\n",
       "      <td>ЦАГИЙН АЖИЛ /ТЭСО ИНВЕСТМЭНТ ХХК/</td>\n",
       "      <td>550000.0</td>\n",
       "    </tr>\n",
       "    <tr>\n",
       "      <th>3</th>\n",
       "      <td>МЭДЭЭЛЭЛ ТЕХНОЛОГИЙН АЖИЛТАН</td>\n",
       "      <td>1650000.0</td>\n",
       "    </tr>\n",
       "    <tr>\n",
       "      <th>4</th>\n",
       "      <td>IT System Analyst</td>\n",
       "      <td>2750000.0</td>\n",
       "    </tr>\n",
       "    <tr>\n",
       "      <th>5</th>\n",
       "      <td>Холбоо дохиололийн инженер</td>\n",
       "      <td>1650000.0</td>\n",
       "    </tr>\n",
       "    <tr>\n",
       "      <th>6</th>\n",
       "      <td>Мэдээллийн аюулгүй байдлын шинжээч</td>\n",
       "      <td>3500000.0</td>\n",
       "    </tr>\n",
       "    <tr>\n",
       "      <th>7</th>\n",
       "      <td>Төслийн менежер</td>\n",
       "      <td>1650000.0</td>\n",
       "    </tr>\n",
       "    <tr>\n",
       "      <th>8</th>\n",
       "      <td>Төслийн менежер</td>\n",
       "      <td>1650000.0</td>\n",
       "    </tr>\n",
       "    <tr>\n",
       "      <th>9</th>\n",
       "      <td>ГРАФИК ДИЗАЙНЕР АЖИЛД АВНА.</td>\n",
       "      <td>2750000.0</td>\n",
       "    </tr>\n",
       "    <tr>\n",
       "      <th>10</th>\n",
       "      <td>Оператор</td>\n",
       "      <td>1350000.0</td>\n",
       "    </tr>\n",
       "    <tr>\n",
       "      <th>11</th>\n",
       "      <td>Сүлжээний инженер</td>\n",
       "      <td>2750000.0</td>\n",
       "    </tr>\n",
       "    <tr>\n",
       "      <th>12</th>\n",
       "      <td>ПРОГРАМ ХӨГЖҮҮЛЭГЧ</td>\n",
       "      <td>3500000.0</td>\n",
       "    </tr>\n",
       "    <tr>\n",
       "      <th>13</th>\n",
       "      <td>Тестэр /Коор майнд ХХК/</td>\n",
       "      <td>1650000.0</td>\n",
       "    </tr>\n",
       "    <tr>\n",
       "      <th>14</th>\n",
       "      <td>Мэдээлэл технологийн ажилтан /support/</td>\n",
       "      <td>1350000.0</td>\n",
       "    </tr>\n",
       "    <tr>\n",
       "      <th>15</th>\n",
       "      <td>ПиАр мэргэжилтэн</td>\n",
       "      <td>1950000.0</td>\n",
       "    </tr>\n",
       "    <tr>\n",
       "      <th>16</th>\n",
       "      <td>Шийдлийн инженер</td>\n",
       "      <td>2300000.0</td>\n",
       "    </tr>\n",
       "    <tr>\n",
       "      <th>17</th>\n",
       "      <td>Суурилуулалтын инженер</td>\n",
       "      <td>1950000.0</td>\n",
       "    </tr>\n",
       "    <tr>\n",
       "      <th>18</th>\n",
       "      <td>Хөгжүүлэгч /Backend/</td>\n",
       "      <td>3500000.0</td>\n",
       "    </tr>\n",
       "    <tr>\n",
       "      <th>19</th>\n",
       "      <td>Программ хангамжийн архитектор</td>\n",
       "      <td>5500000.0</td>\n",
       "    </tr>\n",
       "    <tr>\n",
       "      <th>20</th>\n",
       "      <td>Онлайн оператор (эмэгтэй)</td>\n",
       "      <td>1100000.0</td>\n",
       "    </tr>\n",
       "    <tr>\n",
       "      <th>21</th>\n",
       "      <td>IT инженер (Өмнөговь салбар)</td>\n",
       "      <td>1650000.0</td>\n",
       "    </tr>\n",
       "    <tr>\n",
       "      <th>22</th>\n",
       "      <td>ПРОГРАММ ТЕСТЛЭГЧ</td>\n",
       "      <td>1350000.0</td>\n",
       "    </tr>\n",
       "    <tr>\n",
       "      <th>23</th>\n",
       "      <td>Дотоод аудитор /Мэдээлэл технологи/</td>\n",
       "      <td>2750000.0</td>\n",
       "    </tr>\n",
       "    <tr>\n",
       "      <th>24</th>\n",
       "      <td>Төслийн менежер ажилд авна. /Солонгос хэлтэй/</td>\n",
       "      <td>1950000.0</td>\n",
       "    </tr>\n",
       "    <tr>\n",
       "      <th>25</th>\n",
       "      <td>Back end developer</td>\n",
       "      <td>2300000.0</td>\n",
       "    </tr>\n",
       "    <tr>\n",
       "      <th>26</th>\n",
       "      <td>Захиргааны мэргэжилтэн</td>\n",
       "      <td>1950000.0</td>\n",
       "    </tr>\n",
       "    <tr>\n",
       "      <th>27</th>\n",
       "      <td>Ахлах програм хөгжүүлэгч</td>\n",
       "      <td>3500000.0</td>\n",
       "    </tr>\n",
       "    <tr>\n",
       "      <th>28</th>\n",
       "      <td>Дата аналист</td>\n",
       "      <td>2300000.0</td>\n",
       "    </tr>\n",
       "    <tr>\n",
       "      <th>29</th>\n",
       "      <td>Утасны оператор сургаж авна.</td>\n",
       "      <td>1350000.0</td>\n",
       "    </tr>\n",
       "    <tr>\n",
       "      <th>30</th>\n",
       "      <td>Худалдааны зөвлөх_Cургаж авна</td>\n",
       "      <td>1100000.0</td>\n",
       "    </tr>\n",
       "    <tr>\n",
       "      <th>31</th>\n",
       "      <td>Систем админ</td>\n",
       "      <td>2300000.0</td>\n",
       "    </tr>\n",
       "    <tr>\n",
       "      <th>32</th>\n",
       "      <td>Програм хөгжүүлэгч</td>\n",
       "      <td>1650000.0</td>\n",
       "    </tr>\n",
       "    <tr>\n",
       "      <th>33</th>\n",
       "      <td>Мобайл хөгжүүлэгч</td>\n",
       "      <td>1650000.0</td>\n",
       "    </tr>\n",
       "    <tr>\n",
       "      <th>34</th>\n",
       "      <td>Програмын Ахлах хөгжүүлэгч</td>\n",
       "      <td>2300000.0</td>\n",
       "    </tr>\n",
       "    <tr>\n",
       "      <th>35</th>\n",
       "      <td>Санхүүгийн Ахлах мэргэжилтэн</td>\n",
       "      <td>2300000.0</td>\n",
       "    </tr>\n",
       "    <tr>\n",
       "      <th>36</th>\n",
       "      <td>МЭДЭЭЛЛИЙН ОПЕРАТОР</td>\n",
       "      <td>1100000.0</td>\n",
       "    </tr>\n",
       "    <tr>\n",
       "      <th>37</th>\n",
       "      <td>САЙТЫН АШИГЛАЛТ ХАРИУЦСАН ИНЖЕНЕР</td>\n",
       "      <td>1650000.0</td>\n",
       "    </tr>\n",
       "    <tr>\n",
       "      <th>38</th>\n",
       "      <td>СҮЛЖЭЭНИЙ ИНЖЕНЕР</td>\n",
       "      <td>1650000.0</td>\n",
       "    </tr>\n",
       "    <tr>\n",
       "      <th>39</th>\n",
       "      <td>ПРОГРАМ ХӨГЖҮҮЛЭГЧ</td>\n",
       "      <td>2750000.0</td>\n",
       "    </tr>\n",
       "    <tr>\n",
       "      <th>40</th>\n",
       "      <td>Дата инженер</td>\n",
       "      <td>3500000.0</td>\n",
       "    </tr>\n",
       "    <tr>\n",
       "      <th>41</th>\n",
       "      <td>Мэдээллийн ажилтан</td>\n",
       "      <td>1350000.0</td>\n",
       "    </tr>\n",
       "  </tbody>\n",
       "</table>\n",
       "</div>"
      ],
      "text/plain": [
       "                                       job_titles job_salary\n",
       "0                            ТӨЛӨВЛӨЛТИЙН ИНЖЕНЕР  2750000.0\n",
       "1                               Худалдааны зөвлөх  1650000.0\n",
       "2               ЦАГИЙН АЖИЛ /ТЭСО ИНВЕСТМЭНТ ХХК/   550000.0\n",
       "3                    МЭДЭЭЛЭЛ ТЕХНОЛОГИЙН АЖИЛТАН  1650000.0\n",
       "4                               IT System Analyst  2750000.0\n",
       "5                      Холбоо дохиололийн инженер  1650000.0\n",
       "6              Мэдээллийн аюулгүй байдлын шинжээч  3500000.0\n",
       "7                                 Төслийн менежер  1650000.0\n",
       "8                                 Төслийн менежер  1650000.0\n",
       "9                     ГРАФИК ДИЗАЙНЕР АЖИЛД АВНА.  2750000.0\n",
       "10                                       Оператор  1350000.0\n",
       "11                              Сүлжээний инженер  2750000.0\n",
       "12                             ПРОГРАМ ХӨГЖҮҮЛЭГЧ  3500000.0\n",
       "13                        Тестэр /Коор майнд ХХК/  1650000.0\n",
       "14         Мэдээлэл технологийн ажилтан /support/  1350000.0\n",
       "15                               ПиАр мэргэжилтэн  1950000.0\n",
       "16                               Шийдлийн инженер  2300000.0\n",
       "17                         Суурилуулалтын инженер  1950000.0\n",
       "18                           Хөгжүүлэгч /Backend/  3500000.0\n",
       "19                 Программ хангамжийн архитектор  5500000.0\n",
       "20                      Онлайн оператор (эмэгтэй)  1100000.0\n",
       "21                   IT инженер (Өмнөговь салбар)  1650000.0\n",
       "22                              ПРОГРАММ ТЕСТЛЭГЧ  1350000.0\n",
       "23            Дотоод аудитор /Мэдээлэл технологи/  2750000.0\n",
       "24  Төслийн менежер ажилд авна. /Солонгос хэлтэй/  1950000.0\n",
       "25                             Back end developer  2300000.0\n",
       "26                         Захиргааны мэргэжилтэн  1950000.0\n",
       "27                       Ахлах програм хөгжүүлэгч  3500000.0\n",
       "28                                   Дата аналист  2300000.0\n",
       "29                   Утасны оператор сургаж авна.  1350000.0\n",
       "30                  Худалдааны зөвлөх_Cургаж авна  1100000.0\n",
       "31                                   Систем админ  2300000.0\n",
       "32                             Програм хөгжүүлэгч  1650000.0\n",
       "33                              Мобайл хөгжүүлэгч  1650000.0\n",
       "34                     Програмын Ахлах хөгжүүлэгч  2300000.0\n",
       "35                   Санхүүгийн Ахлах мэргэжилтэн  2300000.0\n",
       "36                            МЭДЭЭЛЛИЙН ОПЕРАТОР  1100000.0\n",
       "37              САЙТЫН АШИГЛАЛТ ХАРИУЦСАН ИНЖЕНЕР  1650000.0\n",
       "38                              СҮЛЖЭЭНИЙ ИНЖЕНЕР  1650000.0\n",
       "39                             ПРОГРАМ ХӨГЖҮҮЛЭГЧ  2750000.0\n",
       "40                                   Дата инженер  3500000.0\n",
       "41                             Мэдээллийн ажилтан  1350000.0"
      ]
     },
     "execution_count": 117,
     "metadata": {},
     "output_type": "execute_result"
    }
   ],
   "source": [
    "df"
   ]
  },
  {
   "cell_type": "code",
   "execution_count": 119,
   "id": "69700e91-7805-4196-9e2d-aae86916d946",
   "metadata": {},
   "outputs": [
    {
     "data": {
      "text/plain": [
       "<AxesSubplot:ylabel='Frequency'>"
      ]
     },
     "execution_count": 119,
     "metadata": {},
     "output_type": "execute_result"
    },
    {
     "data": {
      "image/png": "[encoded data removed]",
      "text/plain": [
       "<Figure size 640x480 with 1 Axes>"
      ]
     },
     "metadata": {},
     "output_type": "display_data"
    }
   ],
   "source": [
    "df['job_salary'].plot.hist()"
   ]
  },
  {
   "cell_type": "markdown",
   "id": "24e14f14-987b-4c11-9bfb-35c79e4a7215",
   "metadata": {},
   "source": [
    "### Exercise 2: Scrape `zangia.mn` Page#1 - Page#10\n",
    "* Make a dataframe using `Мэдээлэл технологи, Харилцаа холбоо` category `https://www.zangia.mn/job/list/pg.1/b.4`.\n",
    "* Get job listings from page 1-10. *Hint* Loop over the list of pages\n",
    "* Make a dataframe and make a histogram plot using `salary` column."
   ]
  },
  {
   "cell_type": "code",
   "execution_count": null,
   "id": "1b6ff87d-f1c8-456f-97f8-06a2fafacd0d",
   "metadata": {},
   "outputs": [],
   "source": [
    "# Your code"
   ]
  },
  {
   "cell_type": "markdown",
   "id": "928cbf46-a110-43f1-847a-788846efe1f8",
   "metadata": {},
   "source": [
    "### Exercise 3: Scrape `zangia.mn` Page#1 - Page#7\n",
    "* Make a dataframe using `Захиргаа, Хүний нөөц` category `https://www.zangia.mn/job/list/pg.1/b.36`.\n",
    "* Get job listings from page 1-7.\n",
    "* Make a dataframe and make a histogram plot using `salary` column.\n",
    "\n",
    "**WARNING** MAKE SURE YOUR LINKS ARE CORRECT!"
   ]
  },
  {
   "cell_type": "code",
   "execution_count": null,
   "id": "d8f744d3-5e8c-4bbd-900e-e7b31502eadf",
   "metadata": {},
   "outputs": [],
   "source": [
    "# Your code"
   ]
  }
 ],
 "metadata": {
  "kernelspec": {
   "display_name": "Python 3 (ipykernel)",
   "language": "python",
   "name": "python3"
  },
  "language_info": {
   "codemirror_mode": {
    "name": "ipython",
    "version": 3
   },
   "file_extension": ".py",
   "mimetype": "text/x-python",
   "name": "python",
   "nbconvert_exporter": "python",
   "pygments_lexer": "ipython3",
   "version": "3.8.13"
  }
 },
 "nbformat": 4,
 "nbformat_minor": 5
}
