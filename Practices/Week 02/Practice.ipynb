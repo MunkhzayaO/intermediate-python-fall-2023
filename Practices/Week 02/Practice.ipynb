{
 "cells": [
  {
   "cell_type": "markdown",
   "id": "f2d229f4-f1d6-4a63-9da8-f2268b06d3f0",
   "metadata": {},
   "source": [
    "### Practice decorator"
   ]
  },
  {
   "cell_type": "markdown",
   "id": "752654f9-119f-4d2d-b89f-b9c3d05035c4",
   "metadata": {
    "tags": []
   },
   "source": [
    "#### Step 1: Create a function to calculate Body Mass Index.\n",
    "Body Mass Index is a simple calculation using a person's height and weight.\n",
    "\n",
    "The formula is `BMI = kg/m2` where kg is a person's weight in kilograms and m2 is their height in centimetres squared.\n",
    "Your function should take **weight** and **height** as inputs and return a bmi. Example: `yourfunction(78, 175)` should return 0.002553\n",
    "| BMI       | Status      |\n",
    "|-----------|-------------|\n",
    "| <= 18.4   | Underweight |\n",
    "| 18.5-24.9 | Normal      |\n",
    "| 25.0-39.9 | Overweight  |\n",
    "| >= 40.0   | Obese       |"
   ]
  },
  {
   "cell_type": "code",
   "execution_count": 21,
   "id": "50bce78c-f441-4aae-82e3-2cb983a08235",
   "metadata": {},
   "outputs": [
    {
     "ename": "SyntaxError",
     "evalue": "invalid syntax (2274791112.py, line 3)",
     "output_type": "error",
     "traceback": [
      "\u001b[1;36m  Cell \u001b[1;32mIn [21], line 3\u001b[1;36m\u001b[0m\n\u001b[1;33m    def (78, 175):\u001b[0m\n\u001b[1;37m        ^\u001b[0m\n\u001b[1;31mSyntaxError\u001b[0m\u001b[1;31m:\u001b[0m invalid syntax\n"
     ]
    }
   ],
   "source": [
    "# Write your code\n",
    "def bmi(weight, height):\n",
    "    def (78, 175):\n",
    "    return weight / height   \n",
    "return bmi\n",
    "\n"
   ]
  },
  {
   "cell_type": "code",
   "execution_count": 55,
   "id": "d3e1196a-352e-4505-8ced-904513e505b2",
   "metadata": {},
   "outputs": [],
   "source": [
    "def bmi_cal(weight, height):\n",
    "    \n",
    "    height_m = height / 100.0\n",
    "    bmi = weight / (height ** 2)\n",
    "    \n",
    "    "
   ]
  },
  {
   "cell_type": "code",
   "execution_count": 56,
   "id": "6dd09683-c479-44c2-b85a-28d22dc2682d",
   "metadata": {},
   "outputs": [],
   "source": [
    "bmi = bmi_cal(78, 175)\n",
    "bmi"
   ]
  },
  {
   "cell_type": "markdown",
   "id": "ae894211-e0aa-498a-ac21-0b19a965a089",
   "metadata": {
    "tags": []
   },
   "source": [
    "#### Step 2: Create a function to round up BMI\n",
    "Example: BMI of `0.0025535446391522234` should return `25.5`\n"
   ]
  },
  {
   "cell_type": "code",
   "execution_count": 57,
   "id": "f6d57be5-fc38-460f-8722-af59e59f22d9",
   "metadata": {},
   "outputs": [],
   "source": [
    "# Write your code\n",
    "def rounder(num):\n",
    "    return num * 10000"
   ]
  },
  {
   "cell_type": "code",
   "execution_count": 58,
   "id": "99467f76-5597-4a89-821c-e7ef4a2db3af",
   "metadata": {},
   "outputs": [
    {
     "ename": "TypeError",
     "evalue": "unsupported operand type(s) for *: 'NoneType' and 'int'",
     "output_type": "error",
     "traceback": [
      "\u001b[1;31m---------------------------------------------------------------------------\u001b[0m",
      "\u001b[1;31mTypeError\u001b[0m                                 Traceback (most recent call last)",
      "Cell \u001b[1;32mIn [58], line 1\u001b[0m\n\u001b[1;32m----> 1\u001b[0m bmi \u001b[38;5;241m=\u001b[39m \u001b[43mrounder\u001b[49m\u001b[43m(\u001b[49m\u001b[43mbmi\u001b[49m\u001b[43m)\u001b[49m\n\u001b[0;32m      2\u001b[0m bmi\n",
      "Cell \u001b[1;32mIn [57], line 3\u001b[0m, in \u001b[0;36mrounder\u001b[1;34m(num)\u001b[0m\n\u001b[0;32m      2\u001b[0m \u001b[38;5;28;01mdef\u001b[39;00m \u001b[38;5;21mrounder\u001b[39m(num):\n\u001b[1;32m----> 3\u001b[0m     \u001b[38;5;28;01mreturn\u001b[39;00m \u001b[43mnum\u001b[49m\u001b[43m \u001b[49m\u001b[38;5;241;43m*\u001b[39;49m\u001b[43m \u001b[49m\u001b[38;5;241;43m10000\u001b[39;49m\n",
      "\u001b[1;31mTypeError\u001b[0m: unsupported operand type(s) for *: 'NoneType' and 'int'"
     ]
    }
   ],
   "source": [
    "bmi = rounder(bmi)\n",
    "bmi"
   ]
  },
  {
   "cell_type": "code",
   "execution_count": 33,
   "id": "76e57b7e-2805-426e-b335-19404fe2e0c9",
   "metadata": {},
   "outputs": [
    {
     "data": {
      "text/plain": [
       "0"
      ]
     },
     "execution_count": 33,
     "metadata": {},
     "output_type": "execute_result"
    }
   ],
   "source": [
    "# Write your code\n",
    "round(0.0025535446391522234,)"
   ]
  },
  {
   "cell_type": "markdown",
   "id": "ef07e003-c1c2-48ba-ae8a-b02e1884497e",
   "metadata": {},
   "source": [
    "#### Step 3: Create a function to convert BMI into their Status\n",
    "Example: BMI of 21 should return `Normal`"
   ]
  },
  {
   "cell_type": "code",
   "execution_count": 62,
   "id": "1f0d0a29-1cd0-4699-bdef-9deb567a1453",
   "metadata": {},
   "outputs": [],
   "source": [
    "# Write your code\n",
    "def bmi_status(bmi):\n",
    "    status = \"\"\n",
    "    if bmi <= 18.4:\n",
    "        status = \"Underweight\"\n",
    "    elif bmi > 18.5 and bmi < 24.9:\n",
    "        status = \"Normal\"\n",
    "    elif bmi > 25 and bmi < 39.9:\n",
    "        status = \"Overweight\"\n",
    "    else:\n",
    "        status = \"Obese\"\n",
    "    return status"
   ]
  },
  {
   "cell_type": "code",
   "execution_count": 63,
   "id": "3fc7b7be-92ca-4688-b953-ce61af3626a2",
   "metadata": {},
   "outputs": [
    {
     "data": {
      "text/plain": [
       "'Normal'"
      ]
     },
     "execution_count": 63,
     "metadata": {},
     "output_type": "execute_result"
    }
   ],
   "source": [
    "bmi_status(21)"
   ]
  },
  {
   "cell_type": "markdown",
   "id": "a5f349bc-549c-4ac1-9588-65e662637e72",
   "metadata": {
    "tags": []
   },
   "source": [
    "#### Step 4: Test your function to get the correct output\n",
    "Call your functions in correct order. Entering weight of 78 and height of 175 should return **Overweight**."
   ]
  },
  {
   "cell_type": "code",
   "execution_count": 4,
   "id": "091aa05f-8be5-44a1-808c-d4ac38514589",
   "metadata": {},
   "outputs": [],
   "source": [
    "# Write your code\n",
    "bmi_status"
   ]
  },
  {
   "cell_type": "markdown",
   "id": "5e3fa6e0-3e2a-4012-a174-8e12a9118bc3",
   "metadata": {},
   "source": [
    "#### Step 5: Make a Decorator function on `Step 2`\n",
    "Example: \n",
    "```\n",
    "def squared_dec(f):\n",
    "  def wrapper(*args, **kwargs):\n",
    "    rv = f(*args, **kwargs)\n",
    "    return rv ** 2\n",
    "  return wrapper\n",
    "```"
   ]
  },
  {
   "cell_type": "code",
   "execution_count": 5,
   "id": "8ab0e5df-9133-42e7-a9ca-519b941d4b24",
   "metadata": {},
   "outputs": [],
   "source": [
    "# Write your code\n"
   ]
  },
  {
   "cell_type": "markdown",
   "id": "7b86f769-81ad-4716-b954-749f171e9c2b",
   "metadata": {
    "tags": []
   },
   "source": [
    "#### Step 6: Make a Decorator function on `Step 3`\n",
    "Example: \n",
    "```\n",
    "def squared_dec(f):\n",
    "  def wrapper(*args, **kwargs):\n",
    "    rv = f(*args, **kwargs)\n",
    "    return rv ** 2\n",
    "  return wrapper\n",
    "```"
   ]
  },
  {
   "cell_type": "code",
   "execution_count": 6,
   "id": "dcbc28bd-e3e9-4cc3-9d27-605880faa2d2",
   "metadata": {},
   "outputs": [],
   "source": [
    "# Write your code\n",
    "def squared(x):\n",
    "  '''Returns the square of x'''\n",
    "  return x ** 2\n",
    "\n",
    "def add(x, y):\n",
    "  '''\n",
    "  Returns the sum of x and y\n",
    "  \n",
    "        Parameters: \n",
    "          a (int): Input as int\n",
    "          b (int): Input as int\n",
    "        Returns: \n",
    "          sum (int): Sum of x and y\n",
    "  '''\n",
    "  return x + y\n",
    "\n",
    "def negative(x):\n",
    "  '''Returns the x as a negative number'''\n",
    "  return x * -1\n"
   ]
  },
  {
   "cell_type": "code",
   "execution_count": null,
   "id": "3ad76098-466f-494a-9ab1-1c60dac3e66f",
   "metadata": {},
   "outputs": [],
   "source": [
    "def bmi_status(bmi):\n",
    "    status = \"\"\n",
    "    if bmi <= 18.4:\n",
    "        status = \"Underweight\"\n",
    "    elif bmi > 18.5 and bmi < 24.9:\n",
    "        status = \"Normal\"\n",
    "    elif bmi > 25 and bmi < 39.9:\n",
    "        status = \"Overweight\"\n",
    "    else:\n",
    "        status = \"Obese\"\n",
    "    return status"
   ]
  },
  {
   "cell_type": "code",
   "execution_count": null,
   "id": "a4ddb1b3-dc91-41bc-a8d5-16ec597943ff",
   "metadata": {},
   "outputs": [],
   "source": [
    "def squared_dec(func):\n",
    "  def wrapper(*args, **kwargs):\n",
    "    rv = func(*args, **kwargs)\n",
    "    return rv ** 2\n",
    "  return wrapper\n",
    "\n",
    "def negative(func):\n",
    "  def wrapper(*args, **kwargs):\n",
    "    rv = func(*args, **kwargs)\n",
    "    return rv * -1\n",
    "  return wrapper "
   ]
  },
  {
   "cell_type": "code",
   "execution_count": null,
   "id": "7ccb664d-b48a-4057-9e22-c080ab95f912",
   "metadata": {},
   "outputs": [],
   "source": [
    "def bmi_status(bmi):\n",
    "    def wrapper("
   ]
  },
  {
   "cell_type": "markdown",
   "id": "49dbf889-4c6e-4d9b-8041-b56ce969ea59",
   "metadata": {
    "tags": []
   },
   "source": [
    "#### Step 7: Decorate `Step 1's` function with `Step 2`\n",
    "Example: \n",
    "```\n",
    "@myfunction\n",
    "def test():\n",
    "  return\n",
    "```"
   ]
  },
  {
   "cell_type": "code",
   "execution_count": 7,
   "id": "6b5a2f93-1955-4a99-855a-55f4bfaea2a4",
   "metadata": {},
   "outputs": [],
   "source": [
    "# Write your code\n",
    "how to write function\n",
    "return "
   ]
  },
  {
   "cell_type": "markdown",
   "id": "d393e0d2-f51f-44c9-a1db-7fe0d439355f",
   "metadata": {
    "tags": []
   },
   "source": [
    "#### Step 8: Decorate `Step 1's` function with `Step 2` and `Step 3` functions in correct order\n",
    "Example: \n",
    "```\n",
    "@mytest\n",
    "@myfunction\n",
    "def test():\n",
    "  return\n",
    "```"
   ]
  },
  {
   "cell_type": "code",
   "execution_count": 8,
   "id": "ebcb8167-2f1b-47aa-8162-ad06450c920d",
   "metadata": {},
   "outputs": [],
   "source": [
    "# Write your code\n"
   ]
  }
 ],
 "metadata": {
  "kernelspec": {
   "display_name": "Python 3 (ipykernel)",
   "language": "python",
   "name": "python3"
  },
  "language_info": {
   "codemirror_mode": {
    "name": "ipython",
    "version": 3
   },
   "file_extension": ".py",
   "mimetype": "text/x-python",
   "name": "python",
   "nbconvert_exporter": "python",
   "pygments_lexer": "ipython3",
   "version": "3.8.13"
  }
 },
 "nbformat": 4,
 "nbformat_minor": 5
}
