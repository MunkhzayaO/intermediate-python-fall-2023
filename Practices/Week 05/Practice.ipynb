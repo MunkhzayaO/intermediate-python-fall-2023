{
 "cells": [
  {
   "cell_type": "markdown",
   "id": "17e20698-184e-4b73-a474-64c1a5cf7a15",
   "metadata": {
    "tags": []
   },
   "source": [
    "### Exercise 1:\n",
    "Objective: Make unit tests on a `employee` module. Use `sample_employees.csv`\n",
    "* Create a separate `tester.py` module.\n",
    "  * Import pandas\n",
    "  * Import `employee` module\n",
    "  * Create a class named `TestEmployee`. Don't forget to import `unittest` module and inherit from it.\n",
    "  * Write a test function that checks if a `get_fullname` function from `employee` returns lower case names. Example: \"Bob Marley\" should return \"bob marley\". *Hint*: use `assertTrue` and `islower()`\n",
    "  * Write a test function. Get `average` salary from `sample_employees.csv` and check if `get_average` function from `employee` module returns the same result.\n",
    "  \n",
    "| Method                      | Checks that              |\n",
    "|-----------------------------|--------------------------|\n",
    "| assertEqual(a,   b)         | a   ==   b               |\n",
    "| assertNotEqual(a,   b)      | a   !=   b               |\n",
    "| assertTrue(x)               | bool(x)   is   True      |\n",
    "| assertFalse(x)              | bool(x)   is   False     |\n",
    "| assertIs(a,   b)            | a   is   b               |\n",
    "| assertIsNot(a,   b)         | a   is   not   b         |\n",
    "| assertIsNone(x)             | x   is   None            |\n",
    "| assertIsNotNone(x)          | x   is   not   None      |\n",
    "| assertIn(a,   b)            | a   in   b               |\n",
    "| assertNotIn(a,   b)         | a   not   in   b         |\n",
    "| assertIsInstance(a,   b)    | isinstance(a,   b)       |\n",
    "| assertNotIsInstance(a,   b) | not   isinstance(a,   b) |"
   ]
  },
  {
   "cell_type": "code",
   "execution_count": 1,
   "id": "23a0a8ba-77af-41d7-ae8a-65380706fa75",
   "metadata": {},
   "outputs": [],
   "source": [
    "!python tester.py"
   ]
  },
  {
   "cell_type": "code",
   "execution_count": 10,
   "id": "c6cf47bf-12fd-444f-b9be-bdb015aea73e",
   "metadata": {},
   "outputs": [],
   "source": [
    "import pandas as pd\n",
    "!python employee.py"
   ]
  },
  {
   "cell_type": "code",
   "execution_count": 27,
   "id": "dbb2176d-c47f-47de-8487-1f9d0b5542bc",
   "metadata": {},
   "outputs": [
    {
     "name": "stderr",
     "output_type": "stream",
     "text": [
      ".\n",
      "----------------------------------------------------------------------\n",
      "Ran 1 test in 0.001s\n",
      "\n",
      "OK\n"
     ]
    }
   ],
   "source": [
    "import unittest\n",
    "import employee  \n",
    "class TestEmployee(unittest.TestCase):\n",
    "    def test_get_fullname_returns_lowercase(self):\n",
    "    \n",
    "        \n",
    "        full_name = employee.get_fullname(\"Bob\", \"Marley\")\n",
    "        \n",
    "        self.assertTrue(full_name.islower(), \"bob , marley\")\n",
    "\n",
    "if __name__ == '__main__':\n",
    "    unittest.main(argv=['first-arg-is-ignored'], exit=False)"
   ]
  },
  {
   "cell_type": "code",
   "execution_count": null,
   "id": "53333c28-fd9a-4b52-b8c7-d0c4737ad2b3",
   "metadata": {},
   "outputs": [],
   "source": []
  },
  {
   "cell_type": "code",
   "execution_count": 29,
   "id": "19876790-5f3d-4fa9-ae9c-a34c7c788913",
   "metadata": {},
   "outputs": [
    {
     "name": "stderr",
     "output_type": "stream",
     "text": [
      ".\n",
      "----------------------------------------------------------------------\n",
      "Ran 1 test in 0.013s\n",
      "\n",
      "OK\n"
     ]
    }
   ],
   "source": [
    "from employee import get_average  \n",
    "\n",
    "class TestEmployee(unittest.TestCase):\n",
    "    def test_get_average_salary(self):\n",
    "       \n",
    "        df = pd.read_csv(\"sample_employees.csv\")\n",
    "        manual_avg = df[\"salary\"].mean()\n",
    "        module_avg = get_average(df[\"salary\"])\n",
    "\n",
    "        delta = 0.001  \n",
    "        self.assertAlmostEqual(manual_avg, module_avg, delta=delta)\n",
    "\n",
    "if __name__ == '__main__':\n",
    "    unittest.main(argv=['first-arg-is-ignored'], exit=False)"
   ]
  },
  {
   "cell_type": "markdown",
   "id": "aef5bad7-ecf4-4766-91b5-e1386d896b75",
   "metadata": {},
   "source": [
    "### Exercise 2:\n",
    "Objective: Make unit tests on a `student` module. Use `sample_students.csv`\n",
    "* Import student\n",
    "* Create a separate *class* in `tester.py` module.\n",
    "  * Create a class named `TestStudent`.\n",
    "  * Write a test function. Get a maximum `grade` from `sample_students.csv` using pandas `.max()` method. And check if it matches `get_max_grade` function from `student` module. Use `grade` column to test.\n",
    "  * Write a test function. Get a minimum `grade` from `sample_students.csv` using pandas `.min()` method. And check if it matches `get_min_grade` function from `employee` module. Use `grade` column to test.\n",
    "\n",
    "* Setup a `setUpClass` and `tearDownClass` in both `TestEmployee` and `TestStudent` classes. \n",
    "  * In both `setUpClass`, print out the name of the class and its status. Example: \"MyTest test started\"\n",
    "  * In both `tearDownClass` print out the name of the class and its status. Example: \"MyTest test ended\"\n",
    "* Read both employees_df as `sample_employees.csv` and students_df `sample_students.csv` at the start of each test. Use `setUp`."
   ]
  },
  {
   "cell_type": "code",
   "execution_count": 21,
   "id": "c0694579-2c7c-47ed-b09b-a8415072f166",
   "metadata": {},
   "outputs": [],
   "source": [
    "!python tester.py"
   ]
  },
  {
   "cell_type": "code",
   "execution_count": 42,
   "id": "c64f4bb1-5b8b-4d89-a526-a2ba9be6992c",
   "metadata": {},
   "outputs": [],
   "source": [
    "df = pd.read_csv(\"sample_students.csv\")"
   ]
  },
  {
   "cell_type": "code",
   "execution_count": 44,
   "id": "d347372d-2929-4d21-a865-c98c9d3c0448",
   "metadata": {},
   "outputs": [
    {
     "name": "stderr",
     "output_type": "stream",
     "text": [
      "..\n",
      "----------------------------------------------------------------------\n",
      "Ran 2 tests in 0.011s\n",
      "\n",
      "OK\n"
     ]
    }
   ],
   "source": [
    "import student\n",
    "class TestStudent(unittest.TestCase):\n",
    "    def test_get_max_grade(self):\n",
    "        \n",
    "    \n",
    "        pandas_max = df[\"grade\"].max()\n",
    "\n",
    "        module_max = student.get_max_grade(df[\"grade\"])\n",
    "\n",
    "        self.assertEqual(pandas_max, module_max)\n",
    "\n",
    "if __name__ == '__main__':\n",
    "    unittest.main(argv=['first-arg-is-ignored'], exit=False)\n",
    "    "
   ]
  },
  {
   "cell_type": "code",
   "execution_count": 45,
   "id": "501dcf06-22aa-4acd-ac7e-eb556e01dcc3",
   "metadata": {},
   "outputs": [
    {
     "name": "stderr",
     "output_type": "stream",
     "text": [
      "..\n",
      "----------------------------------------------------------------------\n",
      "Ran 2 tests in 0.006s\n",
      "\n",
      "OK\n"
     ]
    }
   ],
   "source": [
    "import student\n",
    "class TestStudent(unittest.TestCase):\n",
    "    def test_get_min_grade(self):\n",
    "        \n",
    "    \n",
    "        pandas_min = df[\"grade\"].min()\n",
    "\n",
    "        module_min = student.get_min_grade(df[\"grade\"])\n",
    "\n",
    "        self.assertEqual(pandas_min, module_min)\n",
    "\n",
    "if __name__ == '__main__':\n",
    "    unittest.main(argv=['first-arg-is-ignored'], exit=False)\n",
    "    "
   ]
  },
  {
   "cell_type": "code",
   "execution_count": 47,
   "id": "f5d5904c-0a1e-409d-bc84-d6f770519eec",
   "metadata": {},
   "outputs": [
    {
     "name": "stderr",
     "output_type": "stream",
     "text": [
      ".."
     ]
    },
    {
     "name": "stdout",
     "output_type": "stream",
     "text": [
      "MyTest test started \n",
      "\n",
      "MyTest test ended\n",
      "MyTest test started \n",
      "\n",
      "MyTest test ended\n"
     ]
    },
    {
     "name": "stderr",
     "output_type": "stream",
     "text": [
      "\n",
      "----------------------------------------------------------------------\n",
      "Ran 2 tests in 0.009s\n",
      "\n",
      "OK\n"
     ]
    }
   ],
   "source": [
    "class TestEmployee(unittest.TestCase):\n",
    "    @classmethod\n",
    "    def setUpClass(cls):\n",
    "        print(\"MyTest test started \\n\")\n",
    "    \n",
    "    @classmethod\n",
    "    def tearDownClass(cls):\n",
    "        print(\"MyTest test ended\")\n",
    "\n",
    "    def test_get_fullname_returns_lowercase(self):\n",
    "        full_name = employee.get_fullname(\"Bob\", \"Marley\")\n",
    "        self.assertTrue(full_name.islower())\n",
    "\n",
    "class TestStudent(unittest.TestCase):\n",
    "    @classmethod\n",
    "    def setUpClass(cls):\n",
    "        print(\"MyTest test started \\n\")\n",
    "    \n",
    "    @classmethod\n",
    "    def tearDownClass(cls):\n",
    "        print(\"MyTest test ended\")\n",
    "\n",
    "    def test_get_max_grade(self):\n",
    "        df = pd.read_csv(\"sample_students.csv\")\n",
    "        pandas_max = df[\"grade\"].max()\n",
    "        module_max = student.get_max_grade(df[\"grade\"])\n",
    "        self.assertEqual(pandas_max, module_max)\n",
    "\n",
    "if __name__ == '__main__':\n",
    "    unittest.main(argv=['first-arg-is-ignored'], exit=False)"
   ]
  },
  {
   "cell_type": "code",
   "execution_count": 49,
   "id": "09641705-6d39-4955-b678-d752ea7fc49d",
   "metadata": {},
   "outputs": [
    {
     "name": "stderr",
     "output_type": "stream",
     "text": [
      ".."
     ]
    },
    {
     "name": "stdout",
     "output_type": "stream",
     "text": [
      "MyTest test ended\n",
      "MyTest test ended\n"
     ]
    },
    {
     "name": "stderr",
     "output_type": "stream",
     "text": [
      "\n",
      "----------------------------------------------------------------------\n",
      "Ran 2 tests in 0.012s\n",
      "\n",
      "OK\n"
     ]
    }
   ],
   "source": [
    "class TestEmployee(unittest.TestCase):\n",
    "    def setUp(self):\n",
    "       \n",
    "        self.employees_df = pd.read_csv(\"sample_employees.csv\")\n",
    "\n",
    "    @classmethod\n",
    "    def tearDownClass(cls):\n",
    "        print(\"MyTest test ended\")\n",
    "\n",
    "    def test_get_fullname_returns_lowercase(self):\n",
    "        full_name = employee.get_fullname(\"Bob\", \"Marley\")\n",
    "        self.assertTrue(full_name.islower())\n",
    "\n",
    "class TestStudent(unittest.TestCase):\n",
    "    def setUp(self):\n",
    "        \n",
    "        self.students_df = pd.read_csv(\"sample_students.csv\")\n",
    "\n",
    "    @classmethod\n",
    "    def tearDownClass(cls):\n",
    "        print(\"MyTest test ended\")\n",
    "\n",
    "    def test_get_max_grade(self):\n",
    "        pandas_max = self.students_df[\"grade\"].max()\n",
    "        module_max = student.get_max_grade(self.students_df[\"grade\"])\n",
    "        self.assertEqual(pandas_max, module_max)\n",
    "\n",
    "if __name__ == '__main__':\n",
    "    unittest.main(argv=['first-arg-is-ignored'], exit=False)"
   ]
  },
  {
   "cell_type": "code",
   "execution_count": null,
   "id": "f7874fd7-07d7-4f85-bfda-9c507b5170be",
   "metadata": {},
   "outputs": [],
   "source": []
  },
  {
   "cell_type": "code",
   "execution_count": null,
   "id": "93ccc42e-506b-4593-9555-39ce1f2cc0cb",
   "metadata": {},
   "outputs": [],
   "source": []
  }
 ],
 "metadata": {
  "kernelspec": {
   "display_name": "Python 3 (ipykernel)",
   "language": "python",
   "name": "python3"
  },
  "language_info": {
   "codemirror_mode": {
    "name": "ipython",
    "version": 3
   },
   "file_extension": ".py",
   "mimetype": "text/x-python",
   "name": "python",
   "nbconvert_exporter": "python",
   "pygments_lexer": "ipython3",
   "version": "3.8.13"
  }
 },
 "nbformat": 4,
 "nbformat_minor": 5
}
