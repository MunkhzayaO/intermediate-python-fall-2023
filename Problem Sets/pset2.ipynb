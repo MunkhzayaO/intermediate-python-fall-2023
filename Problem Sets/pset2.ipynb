{
 "cells": [
  {
   "cell_type": "markdown",
   "metadata": {},
   "source": [
    "# PSET2 - Software Engineering for DS"
   ]
  },
  {
   "cell_type": "markdown",
   "metadata": {},
   "source": [
    "This problem set is very open ended. You will create a local package and then demonstrate its use. This package has the following requirements:\n",
    "\n",
    "- The package should have a focus or direction (i.e. it shouldn't be a random collection of functions).\n",
    "- There should be at least three functions/methods in the package.\n",
    "- Each function should have a clear docstring.\n",
    "\n",
    "Good luck!"
   ]
  },
  {
   "cell_type": "markdown",
   "metadata": {},
   "source": [
    "**Defining the functions in the respective modules**"
   ]
  },
  {
   "cell_type": "code",
   "execution_count": 17,
   "metadata": {},
   "outputs": [],
   "source": [
    "#compound_interest.py\n",
    "\n",
    "def calculate_compound_interest(principal, rate, time):\n",
    "   \n",
    "    return principal * (1 + rate) ** time\n",
    "\n",
    "#loan_payment.py\n",
    "\n",
    "def calculate_loan_payment(loan_amount, annual_rate, num_years):\n",
    "   \n",
    "    monthly_rate = annual_rate / 12\n",
    "    num_months = num_years * 12\n",
    "    return loan_amount * (monthly_rate / (1 - (1 + monthly_rate) ** -num_months))\n",
    "\n",
    "#investment_return.py\n",
    "\n",
    "def calculate_investment_return(initial_investment, annual_rate, num_years):\n",
    "   \n",
    "    return initial_investment * (1 + annual_rate * num_years)"
   ]
  },
  {
   "cell_type": "markdown",
   "metadata": {},
   "source": [
    "**Demonstrating the package use**"
   ]
  },
  {
   "cell_type": "code",
   "execution_count": 20,
   "metadata": {},
   "outputs": [
    {
     "name": "stdout",
     "output_type": "stream",
     "text": [
      "Future value with compound interest: $1276.28\n",
      "Monthly loan payment: $386.66\n",
      "Future investment value: $9000.00\n"
     ]
    }
   ],
   "source": [
    "# main.py\n",
    "\n",
    "from finance_tools.compound_interest import calculate_compound_interest\n",
    "from finance_tools.loan_payment import calculate_loan_payment\n",
    "from finance_tools.investment_return import calculate_investment_return\n",
    "\n",
    "# Calculating compound interest\n",
    "principal = 1000\n",
    "rate = 0.05\n",
    "time = 5\n",
    "future_value = calculate_compound_interest(principal, rate, time)\n",
    "print(f\"Future value with compound interest: ${future_value:.2f}\")\n",
    "\n",
    "# Calculating loan payment\n",
    "loan_amount = 20000\n",
    "annual_rate = 0.06\n",
    "num_years = 5\n",
    "monthly_payment = calculate_loan_payment(loan_amount, annual_rate, num_years)\n",
    "print(f\"Monthly loan payment: ${monthly_payment:.2f}\")\n",
    "\n",
    "# Calculating investment return\n",
    "initial_investment = 5000\n",
    "annual_rate = 0.08\n",
    "num_years = 10\n",
    "investment_value = calculate_investment_return(initial_investment, annual_rate, num_years)\n",
    "print(f\"Future investment value: ${investment_value:.2f}\")"
   ]
  },
  {
   "cell_type": "code",
   "execution_count": 19,
   "metadata": {},
   "outputs": [
    {
     "name": "stdout",
     "output_type": "stream",
     "text": [
      "Future value with compound interest: $1276.28\n",
      "Monthly loan payment: $386.66\n",
      "Future investment value: $9000.00\n"
     ]
    }
   ],
   "source": [
    "!python main.py"
   ]
  },
  {
   "cell_type": "code",
   "execution_count": null,
   "metadata": {},
   "outputs": [],
   "source": []
  }
 ],
 "metadata": {
  "kernelspec": {
   "display_name": "Python 3 (ipykernel)",
   "language": "python",
   "name": "python3"
  },
  "language_info": {
   "codemirror_mode": {
    "name": "ipython",
    "version": 3
   },
   "file_extension": ".py",
   "mimetype": "text/x-python",
   "name": "python",
   "nbconvert_exporter": "python",
   "pygments_lexer": "ipython3",
   "version": "3.8.13"
  }
 },
 "nbformat": 4,
 "nbformat_minor": 4
}
