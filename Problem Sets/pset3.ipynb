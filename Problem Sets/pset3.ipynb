{
 "cells": [
  {
   "cell_type": "markdown",
   "metadata": {},
   "source": [
    "# PSET3 - Unit Testing"
   ]
  },
  {
   "cell_type": "markdown",
   "metadata": {},
   "source": [
    "Following along with pset2, you will take the package you created and build unit tests for it. \n",
    "\n",
    "Requirements:\n",
    "- At least two tests for each function.\n",
    "- You should use setUp() and tearDown() methods to set up and tear down your tests.\n",
    "- Create helpful print statements in your tests to let the user know what is happening.\n",
    "\n",
    "Good luck!"
   ]
  },
  {
   "cell_type": "markdown",
   "metadata": {},
   "source": [
    "***We will build unit tests for Pset2 that was the calculations of a compound interest, loan payment, and investment return. Also, we will test 2 different tests. For example, checking if the function returns the correct result, and testing it with different inputs.***"
   ]
  },
  {
   "cell_type": "code",
   "execution_count": 2,
   "metadata": {},
   "outputs": [
    {
     "name": "stderr",
     "output_type": "stream",
     "text": [
      "FFF\n",
      "======================================================================\n",
      "FAIL: test_calculate_compound_interest (__main__.TestMyPackage)\n",
      "----------------------------------------------------------------------\n",
      "Traceback (most recent call last):\n",
      "  File \"pset3_unit_testing/test_my_package.py\", line 21, in test_calculate_compound_interest\n",
      "    self.assertAlmostEqual(result, expected_result, places=2)\n",
      "AssertionError: 2459.7477308497405 != 2545.97 within 2 places (86.22226915025931 difference)\n",
      "\n",
      "======================================================================\n",
      "FAIL: test_calculate_investment_return (__main__.TestMyPackage)\n",
      "----------------------------------------------------------------------\n",
      "Traceback (most recent call last):\n",
      "  File \"pset3_unit_testing/test_my_package.py\", line 47, in test_calculate_investment_return\n",
      "    self.assertAlmostEqual(result, expected_result, places=2)\n",
      "AssertionError: 9000.0 != 8509.5 within 2 places (490.5 difference)\n",
      "\n",
      "======================================================================\n",
      "FAIL: test_calculate_loan_payment (__main__.TestMyPackage)\n",
      "----------------------------------------------------------------------\n",
      "Traceback (most recent call last):\n",
      "  File \"pset3_unit_testing/test_my_package.py\", line 30, in test_calculate_loan_payment\n",
      "    self.assertAlmostEqual(result, expected_result, places=2)\n",
      "AssertionError: 386.6560305885655 != 377.42 within 2 places (9.236030588565484 difference)\n",
      "\n",
      "----------------------------------------------------------------------\n",
      "Ran 3 tests in 0.001s\n",
      "\n",
      "FAILED (failures=3)\n"
     ]
    }
   ],
   "source": [
    "!python pset3_unit_testing/test_my_package.py"
   ]
  },
  {
   "cell_type": "code",
   "execution_count": 32,
   "metadata": {},
   "outputs": [
    {
     "name": "stderr",
     "output_type": "stream",
     "text": [
      "EEE\n",
      "======================================================================\n",
      "ERROR: test_calculate_compound_interest (__main__.TestMyPackage)\n",
      "----------------------------------------------------------------------\n",
      "Traceback (most recent call last):\n",
      "  File \"C:\\Users\\mnkhz\\AppData\\Local\\Temp\\ipykernel_36836\\847513973.py\", line 12, in test_calculate_compound_interest\n",
      "    result = calculate_compound_interest(principal, rate, time)\n",
      "NameError: name 'calculate_compound_interest' is not defined\n",
      "\n",
      "======================================================================\n",
      "ERROR: test_calculate_investment_return (__main__.TestMyPackage)\n",
      "----------------------------------------------------------------------\n",
      "Traceback (most recent call last):\n",
      "  File \"C:\\Users\\mnkhz\\AppData\\Local\\Temp\\ipykernel_36836\\847513973.py\", line 46, in test_calculate_investment_return\n",
      "    result = calculate_investment_return(initial_investment, annual_rate, num_years)\n",
      "NameError: name 'calculate_investment_return' is not defined\n",
      "\n",
      "======================================================================\n",
      "ERROR: test_calculate_loan_payment (__main__.TestMyPackage)\n",
      "----------------------------------------------------------------------\n",
      "Traceback (most recent call last):\n",
      "  File \"C:\\Users\\mnkhz\\AppData\\Local\\Temp\\ipykernel_36836\\847513973.py\", line 29, in test_calculate_loan_payment\n",
      "    result = calculate_loan_payment(loan_amount, annual_rate, num_years)\n",
      "NameError: name 'calculate_loan_payment' is not defined\n",
      "\n",
      "----------------------------------------------------------------------\n",
      "Ran 3 tests in 0.005s\n",
      "\n",
      "FAILED (errors=3)\n"
     ]
    }
   ],
   "source": [
    "import unittest\n",
    "import my_package\n",
    "\n",
    "class TestMyPackage(unittest.TestCase):\n",
    "\n",
    "    def test_calculate_compound_interest(self):\n",
    "# Test 1: Checking if the function returns the correct result\n",
    "        principal = 1000\n",
    "        rate = 0.05\n",
    "        time = 5\n",
    "        expected_result = 1276.28\n",
    "        result = calculate_compound_interest(principal, rate, time)\n",
    "        self.assertAlmostEqual(result, expected_result, places=2)\n",
    "\n",
    "# Test 2: Testing with different inputs\n",
    "        principal = 2000\n",
    "        rate = 0.03\n",
    "        time = 7\n",
    "        expected_result = 2545.97\n",
    "        result = calculate_compound_interest(principal, rate, time)\n",
    "        self.assertAlmostEqual(result, expected_result, places=2)\n",
    "\n",
    "    def test_calculate_loan_payment(self):\n",
    "# Test 1: Checking if the function returns the correct result\n",
    "        loan_amount = 20000\n",
    "        annual_rate = 0.06\n",
    "        num_years = 5\n",
    "        expected_result = 377.42\n",
    "        result = calculate_loan_payment(loan_amount, annual_rate, num_years)\n",
    "        self.assertAlmostEqual(result, expected_result, places=2)\n",
    "\n",
    "# Test 2: Testing with different inputs\n",
    "        loan_amount = 15000\n",
    "        annual_rate = 0.04\n",
    "        num_years = 10\n",
    "        expected_result = 160.96\n",
    "        result = calculate_loan_payment(loan_amount, annual_rate, num_years)\n",
    "        self.assertAlmostEqual(result, expected_result, places=2)\n",
    "\n",
    "    def test_calculate_investment_return(self):\n",
    "        # Test 1: Checking if the function returns the correct result\n",
    "        initial_investment = 5000\n",
    "        annual_rate = 0.08\n",
    "        num_years = 10\n",
    "        expected_result = 8509.50\n",
    "        result = calculate_investment_return(initial_investment, annual_rate, num_years)\n",
    "        self.assertAlmostEqual(result, expected_result, places=2)\n",
    "\n",
    "        # Test 2: Testing with different inputs\n",
    "        initial_investment = 3000\n",
    "        annual_rate = 0.1\n",
    "        num_years = 5\n",
    "        expected_result = 4861.58\n",
    "        result = calculate_investment_return(initial_investment, annual_rate, num_years)\n",
    "        self.assertAlmostEqual(result, expected_result, places=2)\n",
    "\n",
    "if __name__ == '__main__':\n",
    "    unittest.main(argv=['first-arg-is-ignored'], exit=False)"
   ]
  },
  {
   "cell_type": "markdown",
   "metadata": {},
   "source": [
    "***Using setUp() and tearDown() methods to set up and tear down the tests.***"
   ]
  },
  {
   "cell_type": "code",
   "execution_count": 23,
   "metadata": {},
   "outputs": [
    {
     "name": "stderr",
     "output_type": "stream",
     "text": [
      "EEE"
     ]
    },
    {
     "name": "stdout",
     "output_type": "stream",
     "text": [
      "TestMyPackage test started\n",
      "TestMyPackage test ended\n"
     ]
    },
    {
     "name": "stderr",
     "output_type": "stream",
     "text": [
      "\n",
      "======================================================================\n",
      "ERROR: test_calculate_compound_interest (__main__.TestMyPackage)\n",
      "----------------------------------------------------------------------\n",
      "Traceback (most recent call last):\n",
      "  File \"C:\\Users\\mnkhz\\AppData\\Local\\Temp\\ipykernel_36836\\2179527816.py\", line 19, in test_calculate_compound_interest\n",
      "    result = calculate_compound_interest(principal, rate, time)\n",
      "NameError: name 'calculate_compound_interest' is not defined\n",
      "\n",
      "======================================================================\n",
      "ERROR: test_calculate_investment_return (__main__.TestMyPackage)\n",
      "----------------------------------------------------------------------\n",
      "Traceback (most recent call last):\n",
      "  File \"C:\\Users\\mnkhz\\AppData\\Local\\Temp\\ipykernel_36836\\2179527816.py\", line 53, in test_calculate_investment_return\n",
      "    result = calculate_investment_return(initial_investment, annual_rate, num_years)\n",
      "NameError: name 'calculate_investment_return' is not defined\n",
      "\n",
      "======================================================================\n",
      "ERROR: test_calculate_loan_payment (__main__.TestMyPackage)\n",
      "----------------------------------------------------------------------\n",
      "Traceback (most recent call last):\n",
      "  File \"C:\\Users\\mnkhz\\AppData\\Local\\Temp\\ipykernel_36836\\2179527816.py\", line 36, in test_calculate_loan_payment\n",
      "    result = calculate_loan_payment(loan_amount, annual_rate, num_years)\n",
      "NameError: name 'calculate_loan_payment' is not defined\n",
      "\n",
      "----------------------------------------------------------------------\n",
      "Ran 3 tests in 0.007s\n",
      "\n",
      "FAILED (errors=3)\n"
     ]
    }
   ],
   "source": [
    "import unittest\n",
    "import my_package  \n",
    "class TestMyPackage(unittest.TestCase):\n",
    "\n",
    "    @classmethod\n",
    "    def setUpClass(cls):\n",
    "        print(\"TestMyPackage test started\")\n",
    "    \n",
    "    @classmethod\n",
    "    def tearDownClass(cls):\n",
    "        print(\"TestMyPackage test ended\")\n",
    "\n",
    "    def test_calculate_compound_interest(self):\n",
    "# Test 1: Checking if the function returns the correct result\n",
    "        principal = 1000\n",
    "        rate = 0.05\n",
    "        time = 5\n",
    "        expected_result = 1276.28\n",
    "        result = calculate_compound_interest(principal, rate, time)\n",
    "        self.assertAlmostEqual(result, expected_result, places=2)\n",
    "\n",
    "# Test 2: Testing with different inputs\n",
    "        principal = 2000\n",
    "        rate = 0.03\n",
    "        time = 7\n",
    "        expected_result = 2545.97\n",
    "        result = calculate_compound_interest(principal, rate, time)\n",
    "        self.assertAlmostEqual(result, expected_result, places=2)\n",
    "\n",
    "    def test_calculate_loan_payment(self):\n",
    "# Test 1: Checking if the function returns the correct result\n",
    "        loan_amount = 20000\n",
    "        annual_rate = 0.06\n",
    "        num_years = 5\n",
    "        expected_result = 377.42\n",
    "        result = calculate_loan_payment(loan_amount, annual_rate, num_years)\n",
    "        self.assertAlmostEqual(result, expected_result, places=2)\n",
    "\n",
    "# Test 2: Testing with different inputs\n",
    "        loan_amount = 15000\n",
    "        annual_rate = 0.04\n",
    "        num_years = 10\n",
    "        expected_result = 160.96\n",
    "        result = calculate_loan_payment(loan_amount, annual_rate, num_years)\n",
    "        self.assertAlmostEqual(result, expected_result, places=2)\n",
    "\n",
    "    def test_calculate_investment_return(self):\n",
    "# Test 1: Checking if the function returns the correct result\n",
    "        initial_investment = 5000\n",
    "        annual_rate = 0.08\n",
    "        num_years = 10\n",
    "        expected_result = 8509.50\n",
    "        result = calculate_investment_return(initial_investment, annual_rate, num_years)\n",
    "        self.assertAlmostEqual(result, expected_result, places=2)\n",
    "\n",
    "# Test 2: Testing with different inputs\n",
    "        initial_investment = 3000\n",
    "        annual_rate = 0.1\n",
    "        num_years = 5\n",
    "        expected_result = 4861.58\n",
    "        result = calculate_investment_return(initial_investment, annual_rate, num_years)\n",
    "        self.assertAlmostEqual(result, expected_result, places=2)\n",
    "\n",
    "if __name__ == '__main__':\n",
    "    unittest.main(argv=['first-arg-is-ignored'], exit=False)"
   ]
  },
  {
   "cell_type": "code",
   "execution_count": null,
   "metadata": {},
   "outputs": [],
   "source": []
  },
  {
   "cell_type": "code",
   "execution_count": null,
   "metadata": {},
   "outputs": [],
   "source": []
  }
 ],
 "metadata": {
  "kernelspec": {
   "display_name": "Python 3 (ipykernel)",
   "language": "python",
   "name": "python3"
  },
  "language_info": {
   "codemirror_mode": {
    "name": "ipython",
    "version": 3
   },
   "file_extension": ".py",
   "mimetype": "text/x-python",
   "name": "python",
   "nbconvert_exporter": "python",
   "pygments_lexer": "ipython3",
   "version": "3.8.13"
  }
 },
 "nbformat": 4,
 "nbformat_minor": 4
}
